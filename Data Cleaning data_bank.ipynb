{
 "cells": [
  {
   "cell_type": "code",
   "execution_count": 13,
   "id": "ff5ba6ad",
   "metadata": {},
   "outputs": [],
   "source": [
    "import pandas as pd"
   ]
  },
  {
   "cell_type": "code",
   "execution_count": 14,
   "id": "71ce3e93",
   "metadata": {},
   "outputs": [],
   "source": [
    "data_bank_df = pd.read_csv(\"C:/Users/Ayushi Sharma/Desktop/TODO/data bank.csv\")"
   ]
  },
  {
   "cell_type": "code",
   "execution_count": 15,
   "id": "01b0a44e",
   "metadata": {},
   "outputs": [
    {
     "data": {
      "text/html": [
       "<div>\n",
       "<style scoped>\n",
       "    .dataframe tbody tr th:only-of-type {\n",
       "        vertical-align: middle;\n",
       "    }\n",
       "\n",
       "    .dataframe tbody tr th {\n",
       "        vertical-align: top;\n",
       "    }\n",
       "\n",
       "    .dataframe thead th {\n",
       "        text-align: right;\n",
       "    }\n",
       "</style>\n",
       "<table border=\"1\" class=\"dataframe\">\n",
       "  <thead>\n",
       "    <tr style=\"text-align: right;\">\n",
       "      <th></th>\n",
       "      <th>Product Description</th>\n",
       "      <th>Model Name</th>\n",
       "      <th>Brand Name</th>\n",
       "    </tr>\n",
       "  </thead>\n",
       "  <tbody>\n",
       "    <tr>\n",
       "      <th>0</th>\n",
       "      <td>1ST LENS ASSY (9147),A-2182-241-A,SEL1635GM(PA...</td>\n",
       "      <td>SEL1635GM</td>\n",
       "      <td>Sony</td>\n",
       "    </tr>\n",
       "    <tr>\n",
       "      <th>1</th>\n",
       "      <td>92992523 VPLL-Z4015/4WW SHORT FOCUS ZOOM LENS ...</td>\n",
       "      <td>VPLL-Z4015/4WW</td>\n",
       "      <td>Sony</td>\n",
       "    </tr>\n",
       "    <tr>\n",
       "      <th>2</th>\n",
       "      <td>16536659 FUJINON LENS GF32-64MMF4 R LM WR</td>\n",
       "      <td>GF32-64 mm</td>\n",
       "      <td>Fujifilm</td>\n",
       "    </tr>\n",
       "    <tr>\n",
       "      <th>3</th>\n",
       "      <td>16443060 F XF50-140MMF2.8 R LM OIS WR (LENS)</td>\n",
       "      <td>XF50-140 mm</td>\n",
       "      <td>Fujifilm</td>\n",
       "    </tr>\n",
       "    <tr>\n",
       "      <th>4</th>\n",
       "      <td>16536659 FUJINON LENS GF32-64MMF4 R LM WR</td>\n",
       "      <td>GF32-64 mm</td>\n",
       "      <td>Fujifilm</td>\n",
       "    </tr>\n",
       "    <tr>\n",
       "      <th>...</th>\n",
       "      <td>...</td>\n",
       "      <td>...</td>\n",
       "      <td>...</td>\n",
       "    </tr>\n",
       "    <tr>\n",
       "      <th>20230</th>\n",
       "      <td>16647123 FUJIFILM Digital Camera F XT200</td>\n",
       "      <td>F XT200</td>\n",
       "      <td>Sony</td>\n",
       "    </tr>\n",
       "    <tr>\n",
       "      <th>20231</th>\n",
       "      <td>16642965 FUJIFILM Digital Camera X100V S</td>\n",
       "      <td>X100</td>\n",
       "      <td>Fujifilm</td>\n",
       "    </tr>\n",
       "    <tr>\n",
       "      <th>20232</th>\n",
       "      <td>16619554 FUJIFILM Digital Camera FX-X-T3</td>\n",
       "      <td>FX-X-T3</td>\n",
       "      <td>Sony</td>\n",
       "    </tr>\n",
       "    <tr>\n",
       "      <th>20233</th>\n",
       "      <td>16589101 FUJIFILM Digital Camera F FX-X-</td>\n",
       "      <td>F FX-X</td>\n",
       "      <td>Sony</td>\n",
       "    </tr>\n",
       "    <tr>\n",
       "      <th>20234</th>\n",
       "      <td>1.3 IP DOME PI-SFW103L PANASONIC</td>\n",
       "      <td>PI-SFW103L</td>\n",
       "      <td>Panasonic</td>\n",
       "    </tr>\n",
       "  </tbody>\n",
       "</table>\n",
       "<p>20235 rows × 3 columns</p>\n",
       "</div>"
      ],
      "text/plain": [
       "                                     Product Description      Model Name  \\\n",
       "0      1ST LENS ASSY (9147),A-2182-241-A,SEL1635GM(PA...       SEL1635GM   \n",
       "1      92992523 VPLL-Z4015/4WW SHORT FOCUS ZOOM LENS ...  VPLL-Z4015/4WW   \n",
       "2             16536659 FUJINON LENS GF32-64MMF4 R LM WR       GF32-64 mm   \n",
       "3          16443060 F XF50-140MMF2.8 R LM OIS WR (LENS)      XF50-140 mm   \n",
       "4             16536659 FUJINON LENS GF32-64MMF4 R LM WR       GF32-64 mm   \n",
       "...                                                  ...             ...   \n",
       "20230          16647123 FUJIFILM Digital Camera F XT200          F XT200   \n",
       "20231          16642965 FUJIFILM Digital Camera X100V S             X100   \n",
       "20232          16619554 FUJIFILM Digital Camera FX-X-T3          FX-X-T3   \n",
       "20233          16589101 FUJIFILM Digital Camera F FX-X-           F FX-X   \n",
       "20234                  1.3 IP DOME PI-SFW103L PANASONIC       PI-SFW103L   \n",
       "\n",
       "      Brand Name  \n",
       "0           Sony  \n",
       "1           Sony  \n",
       "2       Fujifilm  \n",
       "3       Fujifilm  \n",
       "4       Fujifilm  \n",
       "...          ...  \n",
       "20230       Sony  \n",
       "20231   Fujifilm  \n",
       "20232       Sony  \n",
       "20233       Sony  \n",
       "20234  Panasonic  \n",
       "\n",
       "[20235 rows x 3 columns]"
      ]
     },
     "execution_count": 15,
     "metadata": {},
     "output_type": "execute_result"
    }
   ],
   "source": [
    "data_bank_df"
   ]
  },
  {
   "cell_type": "markdown",
   "id": "5d56614a",
   "metadata": {},
   "source": [
    "# REMOVING DUPLICATES"
   ]
  },
  {
   "cell_type": "code",
   "execution_count": 16,
   "id": "95c47420",
   "metadata": {},
   "outputs": [
    {
     "name": "stdout",
     "output_type": "stream",
     "text": [
      "                                     Product Description         Model Name  \\\n",
      "4             16536659 FUJINON LENS GF32-64MMF4 R LM WR          GF32-64 mm   \n",
      "5          16443060 F XF50-140MMF2.8 R LM OIS WR (LENS)         XF50-140 mm   \n",
      "38     CY3-2399-000 LENS ASS'Y, IS, 4TH GROUP (PARTS ...       CY3-2399-000   \n",
      "40     SELP18105G AE 32844050 MICRO INTERCHANGEABLE L...        SELP18105G    \n",
      "43     SEL70200G AE 32844550 MICRO INTERCHANGEABLE LE...         SEL70200G    \n",
      "...                                                  ...                ...   \n",
      "20202                      AF-S NIKKOR 50MM F/1.8D LENS        Nikkor 50 mm   \n",
      "20204           AF-S NIKKOR 200-500MM F/5.6E ED VR LENS   Nikkor 200-500 mm   \n",
      "20205           AF-S NIKKOR 200-500MM F/5.6E ED VR LENS   Nikkor 200-500 mm   \n",
      "20207           AF-S NIKKOR 200-500MM F/5.6E ED VR LENS   Nikkor 200-500 mm   \n",
      "20219                   4 MP IP DOME SFW403DL PANASONIC            SFW403DL   \n",
      "\n",
      "      Brand Name  \n",
      "4       Fujifilm  \n",
      "5       Fujifilm  \n",
      "38         Canon  \n",
      "40          Sony  \n",
      "43          Sony  \n",
      "...          ...  \n",
      "20202       Sony  \n",
      "20204      Nikon  \n",
      "20205      Nikon  \n",
      "20207      Nikon  \n",
      "20219  Panasonic  \n",
      "\n",
      "[12838 rows x 3 columns]\n"
     ]
    }
   ],
   "source": [
    "# Check for duplicate rows in the DataFrame\n",
    "duplicates = data_bank_df.duplicated()\n",
    "\n",
    "# Display the duplicate rows\n",
    "print(data_bank_df[duplicates])"
   ]
  },
  {
   "cell_type": "code",
   "execution_count": 17,
   "id": "039cb69e",
   "metadata": {},
   "outputs": [
    {
     "name": "stdout",
     "output_type": "stream",
     "text": [
      "                                     Product Description       Model Name  \\\n",
      "0      1ST LENS ASSY (9147),A-2182-241-A,SEL1635GM(PA...        SEL1635GM   \n",
      "1      92992523 VPLL-Z4015/4WW SHORT FOCUS ZOOM LENS ...   VPLL-Z4015/4WW   \n",
      "2             16536659 FUJINON LENS GF32-64MMF4 R LM WR        GF32-64 mm   \n",
      "3          16443060 F XF50-140MMF2.8 R LM OIS WR (LENS)       XF50-140 mm   \n",
      "6      MQA18000 DS-FI3 MICROSCOPE CAMERA (FOR MICROSC...  MQA18000 DS-FI3   \n",
      "...                                                  ...              ...   \n",
      "20230          16647123 FUJIFILM Digital Camera F XT200           F XT200   \n",
      "20231          16642965 FUJIFILM Digital Camera X100V S              X100   \n",
      "20232          16619554 FUJIFILM Digital Camera FX-X-T3           FX-X-T3   \n",
      "20233          16589101 FUJIFILM Digital Camera F FX-X-            F FX-X   \n",
      "20234                  1.3 IP DOME PI-SFW103L PANASONIC        PI-SFW103L   \n",
      "\n",
      "      Brand Name  \n",
      "0           Sony  \n",
      "1           Sony  \n",
      "2       Fujifilm  \n",
      "3       Fujifilm  \n",
      "6          Nikon  \n",
      "...          ...  \n",
      "20230       Sony  \n",
      "20231   Fujifilm  \n",
      "20232       Sony  \n",
      "20233       Sony  \n",
      "20234  Panasonic  \n",
      "\n",
      "[7397 rows x 3 columns]\n"
     ]
    }
   ],
   "source": [
    "# Drop duplicate rows\n",
    "data_bank_df.drop_duplicates(inplace=True)\n",
    "\n",
    "# Display the DataFrame after dropping duplicates\n",
    "print(data_bank_df)\n"
   ]
  },
  {
   "cell_type": "code",
   "execution_count": 18,
   "id": "03cd5270",
   "metadata": {},
   "outputs": [
    {
     "name": "stdout",
     "output_type": "stream",
     "text": [
      "Product Description      1\n",
      "Model Name             271\n",
      "Brand Name               1\n",
      "dtype: int64\n"
     ]
    }
   ],
   "source": [
    "# Check for NaN values in the entire DataFrame\n",
    "nan_values = data_bank_df.isna()\n",
    "\n",
    "# Count the number of NaN values in each column\n",
    "nan_count_per_column = nan_values.sum()\n",
    "\n",
    "print(nan_count_per_column)"
   ]
  },
  {
   "cell_type": "code",
   "execution_count": 19,
   "id": "7a247e2c",
   "metadata": {},
   "outputs": [],
   "source": [
    "# Drop rows with NaN values in the 'Product Description' column\n",
    "data_bank_df.dropna(subset=['Product Description'], inplace=True)"
   ]
  },
  {
   "cell_type": "code",
   "execution_count": 20,
   "id": "a7bfa69f",
   "metadata": {},
   "outputs": [
    {
     "name": "stdout",
     "output_type": "stream",
     "text": [
      "Product Description      0\n",
      "Model Name             270\n",
      "Brand Name               0\n",
      "dtype: int64\n"
     ]
    }
   ],
   "source": [
    "# Check for NaN values in the entire DataFrame\n",
    "nan_values = data_bank_df.isna()\n",
    "\n",
    "# Count the number of NaN values in each column\n",
    "nan_count_per_column = nan_values.sum()\n",
    "\n",
    "print(nan_count_per_column)"
   ]
  },
  {
   "cell_type": "markdown",
   "id": "ee685f86",
   "metadata": {},
   "source": [
    "# Imputation of nan values in Model Name "
   ]
  },
  {
   "cell_type": "code",
   "execution_count": 21,
   "id": "f2cde598",
   "metadata": {},
   "outputs": [
    {
     "name": "stdout",
     "output_type": "stream",
     "text": [
      "                                     Product Description       Model Name  \\\n",
      "0      1ST LENS ASSY (9147),A-2182-241-A,SEL1635GM(PA...        SEL1635GM   \n",
      "1      92992523 VPLL-Z4015/4WW SHORT FOCUS ZOOM LENS ...   VPLL-Z4015/4WW   \n",
      "2             16536659 FUJINON LENS GF32-64MMF4 R LM WR        GF32-64 mm   \n",
      "3          16443060 F XF50-140MMF2.8 R LM OIS WR (LENS)       XF50-140 mm   \n",
      "6      MQA18000 DS-FI3 MICROSCOPE CAMERA (FOR MICROSC...  MQA18000 DS-FI3   \n",
      "...                                                  ...              ...   \n",
      "20230          16647123 FUJIFILM Digital Camera F XT200           F XT200   \n",
      "20231          16642965 FUJIFILM Digital Camera X100V S              X100   \n",
      "20232          16619554 FUJIFILM Digital Camera FX-X-T3           FX-X-T3   \n",
      "20233          16589101 FUJIFILM Digital Camera F FX-X-            F FX-X   \n",
      "20234                  1.3 IP DOME PI-SFW103L PANASONIC        PI-SFW103L   \n",
      "\n",
      "      Brand Name  \n",
      "0           Sony  \n",
      "1           Sony  \n",
      "2       Fujifilm  \n",
      "3       Fujifilm  \n",
      "6          Nikon  \n",
      "...          ...  \n",
      "20230       Sony  \n",
      "20231   Fujifilm  \n",
      "20232       Sony  \n",
      "20233       Sony  \n",
      "20234  Panasonic  \n",
      "\n",
      "[7396 rows x 3 columns]\n"
     ]
    }
   ],
   "source": [
    "# Replace NaN values in the 'Model Name' column with 'Not Available'\n",
    "data_bank_df['Model Name'].fillna('Not Available', inplace=True)\n",
    "\n",
    "# Display the DataFrame after replacing NaN values in the 'Model Name' column\n",
    "print(data_bank_df)\n"
   ]
  },
  {
   "cell_type": "code",
   "execution_count": 25,
   "id": "318d9190",
   "metadata": {},
   "outputs": [
    {
     "name": "stdout",
     "output_type": "stream",
     "text": [
      "                                     Product Description       Model Name  \\\n",
      "0      1st lens assy 9147a2182241asel1635gmparts for ...        SEL1635GM   \n",
      "1      92992523 vpllz40154ww short focus zoom lens fr...   VPLL-Z4015/4WW   \n",
      "2               16536659 fujinon lens gf3264mmf4 r lm wr       GF32-64 mm   \n",
      "3               16443060 f xf50140mmf28 r lm ois wr lens      XF50-140 mm   \n",
      "6        mqa18000 dsfi3 microscope camera for microscope  MQA18000 DS-FI3   \n",
      "...                                                  ...              ...   \n",
      "20230           16647123 fujifilm digital camera f xt200          F XT200   \n",
      "20231           16642965 fujifilm digital camera x100v s             X100   \n",
      "20232             16619554 fujifilm digital camera fxxt3          FX-X-T3   \n",
      "20233             16589101 fujifilm digital camera f fxx           F FX-X   \n",
      "20234                     13 ip dome pisfw103l panasonic       PI-SFW103L   \n",
      "\n",
      "      Brand Name  \n",
      "0           Sony  \n",
      "1           Sony  \n",
      "2       Fujifilm  \n",
      "3       Fujifilm  \n",
      "6          Nikon  \n",
      "...          ...  \n",
      "20230       Sony  \n",
      "20231   Fujifilm  \n",
      "20232       Sony  \n",
      "20233       Sony  \n",
      "20234  Panasonic  \n",
      "\n",
      "[7396 rows x 3 columns]\n"
     ]
    }
   ],
   "source": [
    "\n",
    "# Step 1: Removing special characters\n",
    "data_bank_df['Product Description'] = data_bank_df['Product Description'].str.replace(r'[^\\w\\s]', '', regex=True)\n",
    "\n",
    "# Step 2: Converting to lowercase\n",
    "data_bank_df['Product Description'] = data_bank_df['Product Description'].str.lower()\n",
    "\n",
    "# Step 3: Removing extra whitespace\n",
    "data_bank_df['Product Description'] = data_bank_df['Product Description'].str.strip()\n",
    "\n",
    "# Display the DataFrame with the standardized 'Product Description' column\n",
    "print(data_bank_df)\n"
   ]
  },
  {
   "cell_type": "code",
   "execution_count": 26,
   "id": "ef516c19",
   "metadata": {},
   "outputs": [],
   "source": [
    "# Export the DataFrame to a CSV file\n",
    "data_bank_df.to_csv('bank_data.csv', index=False)"
   ]
  }
 ],
 "metadata": {
  "kernelspec": {
   "display_name": "Python 3 (ipykernel)",
   "language": "python",
   "name": "python3"
  },
  "language_info": {
   "codemirror_mode": {
    "name": "ipython",
    "version": 3
   },
   "file_extension": ".py",
   "mimetype": "text/x-python",
   "name": "python",
   "nbconvert_exporter": "python",
   "pygments_lexer": "ipython3",
   "version": "3.10.9"
  }
 },
 "nbformat": 4,
 "nbformat_minor": 5
}
